{
 "cells": [
  {
   "cell_type": "markdown",
   "id": "0096a4ef",
   "metadata": {
    "toc": true
   },
   "source": [
    "<h1>Table of Contents<span class=\"tocSkip\"></span></h1>\n",
    "<div class=\"toc\"><ul class=\"toc-item\"><li><span><a href=\"#Python-Process-text-data-on-Twitter-data\" data-toc-modified-id=\"Python-Process-text-data-on-Twitter-data-1\"><span class=\"toc-item-num\">1&nbsp;&nbsp;</span>Python Process text data on Twitter data</a></span></li><li><span><a href=\"#Introduction\" data-toc-modified-id=\"Introduction-2\"><span class=\"toc-item-num\">2&nbsp;&nbsp;</span>Introduction</a></span></li><li><span><a href=\"#Data-reivew\" data-toc-modified-id=\"Data-reivew-3\"><span class=\"toc-item-num\">3&nbsp;&nbsp;</span>Data reivew</a></span></li><li><span><a href=\"#Data-cleaning\" data-toc-modified-id=\"Data-cleaning-4\"><span class=\"toc-item-num\">4&nbsp;&nbsp;</span>Data cleaning</a></span><ul class=\"toc-item\"><li><span><a href=\"#Drop-useless-columns\" data-toc-modified-id=\"Drop-useless-columns-4.1\"><span class=\"toc-item-num\">4.1&nbsp;&nbsp;</span>Drop useless columns</a></span></li><li><span><a href=\"#Extract-text-data\" data-toc-modified-id=\"Extract-text-data-4.2\"><span class=\"toc-item-num\">4.2&nbsp;&nbsp;</span>Extract text data</a></span></li><li><span><a href=\"#text-pipline\" data-toc-modified-id=\"text-pipline-4.3\"><span class=\"toc-item-num\">4.3&nbsp;&nbsp;</span>text pipline</a></span></li><li><span><a href=\"#cleaned-text-sample\" data-toc-modified-id=\"cleaned-text-sample-4.4\"><span class=\"toc-item-num\">4.4&nbsp;&nbsp;</span>cleaned text sample</a></span></li><li><span><a href=\"#Vectorization\" data-toc-modified-id=\"Vectorization-4.5\"><span class=\"toc-item-num\">4.5&nbsp;&nbsp;</span>Vectorization</a></span><ul class=\"toc-item\"><li><span><a href=\"#CountVectorizer\" data-toc-modified-id=\"CountVectorizer-4.5.1\"><span class=\"toc-item-num\">4.5.1&nbsp;&nbsp;</span>CountVectorizer</a></span></li><li><span><a href=\"#Word-count\" data-toc-modified-id=\"Word-count-4.5.2\"><span class=\"toc-item-num\">4.5.2&nbsp;&nbsp;</span>Word count</a></span></li></ul></li></ul></li><li><span><a href=\"#Wordcould\" data-toc-modified-id=\"Wordcould-5\"><span class=\"toc-item-num\">5&nbsp;&nbsp;</span>Wordcould</a></span></li></ul></div>"
   ]
  },
  {
   "cell_type": "markdown",
   "id": "f2262e29",
   "metadata": {},
   "source": [
    "# Stage 1"
   ]
  },
  {
   "cell_type": "markdown",
   "id": "9ca4aa64",
   "metadata": {},
   "source": [
    "# Introduction"
   ]
  },
  {
   "cell_type": "markdown",
   "id": "a19aa403",
   "metadata": {},
   "source": [
    "Author: Cholian Li\n",
    "\n",
    "Date: 2021/09/28\n",
    "\n",
    "Data sources: data_twitter.csv"
   ]
  },
  {
   "cell_type": "markdown",
   "id": "95e9b526",
   "metadata": {},
   "source": [
    "# Libraries"
   ]
  },
  {
   "cell_type": "code",
   "execution_count": 519,
   "id": "6a3c24a5",
   "metadata": {},
   "outputs": [],
   "source": [
    "import seaborn as sns\n",
    "sns.set()\n",
    "from mpl_toolkits.mplot3d import Axes3D\n",
    "from sklearn.cluster import KMeans\n",
    "import pandas as pd"
   ]
  },
  {
   "cell_type": "code",
   "execution_count": 520,
   "id": "7f15b499",
   "metadata": {},
   "outputs": [],
   "source": [
    "ori_data = pd.read_csv('data/data_twitter.csv',index_col=0)"
   ]
  },
  {
   "cell_type": "code",
   "execution_count": 521,
   "id": "5667bb79",
   "metadata": {
    "scrolled": true
   },
   "outputs": [
    {
     "data": {
      "text/html": [
       "<div>\n",
       "<style scoped>\n",
       "    .dataframe tbody tr th:only-of-type {\n",
       "        vertical-align: middle;\n",
       "    }\n",
       "\n",
       "    .dataframe tbody tr th {\n",
       "        vertical-align: top;\n",
       "    }\n",
       "\n",
       "    .dataframe thead th {\n",
       "        text-align: right;\n",
       "    }\n",
       "</style>\n",
       "<table border=\"1\" class=\"dataframe\">\n",
       "  <thead>\n",
       "    <tr style=\"text-align: right;\">\n",
       "      <th></th>\n",
       "      <th>user_id</th>\n",
       "      <th>status_id</th>\n",
       "      <th>created_at</th>\n",
       "      <th>screen_name</th>\n",
       "      <th>text</th>\n",
       "      <th>source</th>\n",
       "      <th>display_text_width</th>\n",
       "      <th>reply_to_status_id</th>\n",
       "      <th>reply_to_user_id</th>\n",
       "      <th>reply_to_screen_name</th>\n",
       "      <th>...</th>\n",
       "      <th>statuses_count</th>\n",
       "      <th>favourites_count</th>\n",
       "      <th>account_created_at</th>\n",
       "      <th>verified</th>\n",
       "      <th>profile_url</th>\n",
       "      <th>profile_expanded_url</th>\n",
       "      <th>account_lang</th>\n",
       "      <th>profile_banner_url</th>\n",
       "      <th>profile_background_url</th>\n",
       "      <th>profile_image_url</th>\n",
       "    </tr>\n",
       "  </thead>\n",
       "  <tbody>\n",
       "    <tr>\n",
       "      <th>0</th>\n",
       "      <td>915225464230334464</td>\n",
       "      <td>1436479568483954688</td>\n",
       "      <td>1631318392</td>\n",
       "      <td>EnrichedFeed</td>\n",
       "      <td>Bitcoin, Ethereum and Solana Prices Slip�&lt;U+00...</td>\n",
       "      <td>bFol05</td>\n",
       "      <td>284</td>\n",
       "      <td>NaN</td>\n",
       "      <td>NaN</td>\n",
       "      <td>NaN</td>\n",
       "      <td>...</td>\n",
       "      <td>60018</td>\n",
       "      <td>104905</td>\n",
       "      <td>1507041729</td>\n",
       "      <td>False</td>\n",
       "      <td>https://t.co/CiSQWfSBUP</td>\n",
       "      <td>https://www.enrichedfeed.com</td>\n",
       "      <td>NaN</td>\n",
       "      <td>https://pbs.twimg.com/profile_banners/91522546...</td>\n",
       "      <td>http://abs.twimg.com/images/themes/theme1/bg.png</td>\n",
       "      <td>http://pbs.twimg.com/profile_images/1136016670...</td>\n",
       "    </tr>\n",
       "    <tr>\n",
       "      <th>1</th>\n",
       "      <td>915225464230334464</td>\n",
       "      <td>1436478311711051791</td>\n",
       "      <td>1631318092</td>\n",
       "      <td>EnrichedFeed</td>\n",
       "      <td>C98/USD price expected to dip to $3.5 in the n...</td>\n",
       "      <td>bFol05</td>\n",
       "      <td>271</td>\n",
       "      <td>NaN</td>\n",
       "      <td>NaN</td>\n",
       "      <td>NaN</td>\n",
       "      <td>...</td>\n",
       "      <td>60018</td>\n",
       "      <td>104905</td>\n",
       "      <td>1507041729</td>\n",
       "      <td>False</td>\n",
       "      <td>https://t.co/CiSQWfSBUP</td>\n",
       "      <td>https://www.enrichedfeed.com</td>\n",
       "      <td>NaN</td>\n",
       "      <td>https://pbs.twimg.com/profile_banners/91522546...</td>\n",
       "      <td>http://abs.twimg.com/images/themes/theme1/bg.png</td>\n",
       "      <td>http://pbs.twimg.com/profile_images/1136016670...</td>\n",
       "    </tr>\n",
       "    <tr>\n",
       "      <th>2</th>\n",
       "      <td>915225464230334464</td>\n",
       "      <td>1436468760475574316</td>\n",
       "      <td>1631315815</td>\n",
       "      <td>EnrichedFeed</td>\n",
       "      <td>Aave founder sells �&lt;U+0080&gt;&lt;U+0098&gt;Yield�&lt;U+0...</td>\n",
       "      <td>bFol05</td>\n",
       "      <td>274</td>\n",
       "      <td>NaN</td>\n",
       "      <td>NaN</td>\n",
       "      <td>NaN</td>\n",
       "      <td>...</td>\n",
       "      <td>60018</td>\n",
       "      <td>104905</td>\n",
       "      <td>1507041729</td>\n",
       "      <td>False</td>\n",
       "      <td>https://t.co/CiSQWfSBUP</td>\n",
       "      <td>https://www.enrichedfeed.com</td>\n",
       "      <td>NaN</td>\n",
       "      <td>https://pbs.twimg.com/profile_banners/91522546...</td>\n",
       "      <td>http://abs.twimg.com/images/themes/theme1/bg.png</td>\n",
       "      <td>http://pbs.twimg.com/profile_images/1136016670...</td>\n",
       "    </tr>\n",
       "    <tr>\n",
       "      <th>3</th>\n",
       "      <td>915225464230334464</td>\n",
       "      <td>1436469517174116364</td>\n",
       "      <td>1631315995</td>\n",
       "      <td>EnrichedFeed</td>\n",
       "      <td>Is the Crypto Market Correction Good or Bad fo...</td>\n",
       "      <td>bFol05</td>\n",
       "      <td>271</td>\n",
       "      <td>NaN</td>\n",
       "      <td>NaN</td>\n",
       "      <td>NaN</td>\n",
       "      <td>...</td>\n",
       "      <td>60018</td>\n",
       "      <td>104905</td>\n",
       "      <td>1507041729</td>\n",
       "      <td>False</td>\n",
       "      <td>https://t.co/CiSQWfSBUP</td>\n",
       "      <td>https://www.enrichedfeed.com</td>\n",
       "      <td>NaN</td>\n",
       "      <td>https://pbs.twimg.com/profile_banners/91522546...</td>\n",
       "      <td>http://abs.twimg.com/images/themes/theme1/bg.png</td>\n",
       "      <td>http://pbs.twimg.com/profile_images/1136016670...</td>\n",
       "    </tr>\n",
       "    <tr>\n",
       "      <th>4</th>\n",
       "      <td>915225464230334464</td>\n",
       "      <td>1436478217444069379</td>\n",
       "      <td>1631318070</td>\n",
       "      <td>EnrichedFeed</td>\n",
       "      <td>Undaunted by Bitcoin �&lt;U+0080&gt;&lt;U+0098&gt;flash cr...</td>\n",
       "      <td>bFol05</td>\n",
       "      <td>277</td>\n",
       "      <td>NaN</td>\n",
       "      <td>NaN</td>\n",
       "      <td>NaN</td>\n",
       "      <td>...</td>\n",
       "      <td>60018</td>\n",
       "      <td>104905</td>\n",
       "      <td>1507041729</td>\n",
       "      <td>False</td>\n",
       "      <td>https://t.co/CiSQWfSBUP</td>\n",
       "      <td>https://www.enrichedfeed.com</td>\n",
       "      <td>NaN</td>\n",
       "      <td>https://pbs.twimg.com/profile_banners/91522546...</td>\n",
       "      <td>http://abs.twimg.com/images/themes/theme1/bg.png</td>\n",
       "      <td>http://pbs.twimg.com/profile_images/1136016670...</td>\n",
       "    </tr>\n",
       "  </tbody>\n",
       "</table>\n",
       "<p>5 rows × 90 columns</p>\n",
       "</div>"
      ],
      "text/plain": [
       "              user_id            status_id  created_at   screen_name  \\\n",
       "0  915225464230334464  1436479568483954688  1631318392  EnrichedFeed   \n",
       "1  915225464230334464  1436478311711051791  1631318092  EnrichedFeed   \n",
       "2  915225464230334464  1436468760475574316  1631315815  EnrichedFeed   \n",
       "3  915225464230334464  1436469517174116364  1631315995  EnrichedFeed   \n",
       "4  915225464230334464  1436478217444069379  1631318070  EnrichedFeed   \n",
       "\n",
       "                                                text  source  \\\n",
       "0  Bitcoin, Ethereum and Solana Prices Slip�<U+00...  bFol05   \n",
       "1  C98/USD price expected to dip to $3.5 in the n...  bFol05   \n",
       "2  Aave founder sells �<U+0080><U+0098>Yield�<U+0...  bFol05   \n",
       "3  Is the Crypto Market Correction Good or Bad fo...  bFol05   \n",
       "4  Undaunted by Bitcoin �<U+0080><U+0098>flash cr...  bFol05   \n",
       "\n",
       "   display_text_width  reply_to_status_id  reply_to_user_id  \\\n",
       "0                 284                 NaN               NaN   \n",
       "1                 271                 NaN               NaN   \n",
       "2                 274                 NaN               NaN   \n",
       "3                 271                 NaN               NaN   \n",
       "4                 277                 NaN               NaN   \n",
       "\n",
       "  reply_to_screen_name  ...  statuses_count  favourites_count  \\\n",
       "0                  NaN  ...           60018            104905   \n",
       "1                  NaN  ...           60018            104905   \n",
       "2                  NaN  ...           60018            104905   \n",
       "3                  NaN  ...           60018            104905   \n",
       "4                  NaN  ...           60018            104905   \n",
       "\n",
       "   account_created_at  verified              profile_url  \\\n",
       "0          1507041729     False  https://t.co/CiSQWfSBUP   \n",
       "1          1507041729     False  https://t.co/CiSQWfSBUP   \n",
       "2          1507041729     False  https://t.co/CiSQWfSBUP   \n",
       "3          1507041729     False  https://t.co/CiSQWfSBUP   \n",
       "4          1507041729     False  https://t.co/CiSQWfSBUP   \n",
       "\n",
       "           profile_expanded_url account_lang  \\\n",
       "0  https://www.enrichedfeed.com          NaN   \n",
       "1  https://www.enrichedfeed.com          NaN   \n",
       "2  https://www.enrichedfeed.com          NaN   \n",
       "3  https://www.enrichedfeed.com          NaN   \n",
       "4  https://www.enrichedfeed.com          NaN   \n",
       "\n",
       "                                  profile_banner_url  \\\n",
       "0  https://pbs.twimg.com/profile_banners/91522546...   \n",
       "1  https://pbs.twimg.com/profile_banners/91522546...   \n",
       "2  https://pbs.twimg.com/profile_banners/91522546...   \n",
       "3  https://pbs.twimg.com/profile_banners/91522546...   \n",
       "4  https://pbs.twimg.com/profile_banners/91522546...   \n",
       "\n",
       "                             profile_background_url  \\\n",
       "0  http://abs.twimg.com/images/themes/theme1/bg.png   \n",
       "1  http://abs.twimg.com/images/themes/theme1/bg.png   \n",
       "2  http://abs.twimg.com/images/themes/theme1/bg.png   \n",
       "3  http://abs.twimg.com/images/themes/theme1/bg.png   \n",
       "4  http://abs.twimg.com/images/themes/theme1/bg.png   \n",
       "\n",
       "                                   profile_image_url  \n",
       "0  http://pbs.twimg.com/profile_images/1136016670...  \n",
       "1  http://pbs.twimg.com/profile_images/1136016670...  \n",
       "2  http://pbs.twimg.com/profile_images/1136016670...  \n",
       "3  http://pbs.twimg.com/profile_images/1136016670...  \n",
       "4  http://pbs.twimg.com/profile_images/1136016670...  \n",
       "\n",
       "[5 rows x 90 columns]"
      ]
     },
     "execution_count": 521,
     "metadata": {},
     "output_type": "execute_result"
    }
   ],
   "source": [
    "ori_data.head()"
   ]
  },
  {
   "cell_type": "code",
   "execution_count": 522,
   "id": "923ecad5",
   "metadata": {},
   "outputs": [
    {
     "name": "stdout",
     "output_type": "stream",
     "text": [
      "<class 'pandas.core.frame.DataFrame'>\n",
      "Int64Index: 40120 entries, 0 to 40119\n",
      "Data columns (total 90 columns):\n",
      " #   Column                   Non-Null Count  Dtype  \n",
      "---  ------                   --------------  -----  \n",
      " 0   user_id                  40120 non-null  int64  \n",
      " 1   status_id                40120 non-null  int64  \n",
      " 2   created_at               40120 non-null  int64  \n",
      " 3   screen_name              40120 non-null  object \n",
      " 4   text                     40120 non-null  object \n",
      " 5   source                   40120 non-null  object \n",
      " 6   display_text_width       40120 non-null  int64  \n",
      " 7   reply_to_status_id       11025 non-null  float64\n",
      " 8   reply_to_user_id         11986 non-null  float64\n",
      " 9   reply_to_screen_name     11986 non-null  object \n",
      " 10  is_quote                 40120 non-null  bool   \n",
      " 11  is_retweet               40120 non-null  bool   \n",
      " 12  favorite_count           40120 non-null  int64  \n",
      " 13  retweet_count            40120 non-null  int64  \n",
      " 14  quote_count              0 non-null      float64\n",
      " 15  reply_count              0 non-null      float64\n",
      " 16  hashtags                 40120 non-null  object \n",
      " 17  symbols                  10054 non-null  object \n",
      " 18  urls_url                 17260 non-null  object \n",
      " 19  urls_t.co                17260 non-null  object \n",
      " 20  urls_expanded_url        17260 non-null  object \n",
      " 21  media_url                11098 non-null  object \n",
      " 22  media_t.co               11098 non-null  object \n",
      " 23  media_expanded_url       11098 non-null  object \n",
      " 24  media_type               11098 non-null  object \n",
      " 25  ext_media_url            11098 non-null  object \n",
      " 26  ext_media_t.co           11098 non-null  object \n",
      " 27  ext_media_expanded_url   11098 non-null  object \n",
      " 28  ext_media_type           0 non-null      float64\n",
      " 29  mentions_user_id         14904 non-null  object \n",
      " 30  mentions_screen_name     14904 non-null  object \n",
      " 31  lang                     40120 non-null  object \n",
      " 32  quoted_status_id         3773 non-null   float64\n",
      " 33  quoted_text              3773 non-null   object \n",
      " 34  quoted_created_at        3773 non-null   float64\n",
      " 35  quoted_source            3773 non-null   object \n",
      " 36  quoted_favorite_count    3773 non-null   float64\n",
      " 37  quoted_retweet_count     3773 non-null   float64\n",
      " 38  quoted_user_id           3773 non-null   float64\n",
      " 39  quoted_screen_name       3773 non-null   object \n",
      " 40  quoted_name              3773 non-null   object \n",
      " 41  quoted_followers_count   3773 non-null   float64\n",
      " 42  quoted_friends_count     3773 non-null   float64\n",
      " 43  quoted_statuses_count    3773 non-null   float64\n",
      " 44  quoted_location          1725 non-null   object \n",
      " 45  quoted_description       3718 non-null   object \n",
      " 46  quoted_verified          3773 non-null   object \n",
      " 47  retweet_status_id        0 non-null      float64\n",
      " 48  retweet_text             0 non-null      float64\n",
      " 49  retweet_created_at       0 non-null      float64\n",
      " 50  retweet_source           0 non-null      float64\n",
      " 51  retweet_favorite_count   0 non-null      float64\n",
      " 52  retweet_retweet_count    0 non-null      float64\n",
      " 53  retweet_user_id          0 non-null      float64\n",
      " 54  retweet_screen_name      0 non-null      float64\n",
      " 55  retweet_name             0 non-null      float64\n",
      " 56  retweet_followers_count  0 non-null      float64\n",
      " 57  retweet_friends_count    0 non-null      float64\n",
      " 58  retweet_statuses_count   0 non-null      float64\n",
      " 59  retweet_location         0 non-null      float64\n",
      " 60  retweet_description      0 non-null      float64\n",
      " 61  retweet_verified         0 non-null      float64\n",
      " 62  place_url                267 non-null    object \n",
      " 63  place_name               267 non-null    object \n",
      " 64  place_full_name          267 non-null    object \n",
      " 65  place_type               267 non-null    object \n",
      " 66  country                  267 non-null    object \n",
      " 67  country_code             267 non-null    object \n",
      " 68  geo_coords               40120 non-null  object \n",
      " 69  coords_coords            40120 non-null  object \n",
      " 70  bbox_coords              40120 non-null  object \n",
      " 71  status_url               40120 non-null  object \n",
      " 72  name                     40120 non-null  object \n",
      " 73  location                 19429 non-null  object \n",
      " 74  description              33578 non-null  object \n",
      " 75  url                      14687 non-null  object \n",
      " 76  protected                40120 non-null  bool   \n",
      " 77  followers_count          40120 non-null  int64  \n",
      " 78  friends_count            40120 non-null  int64  \n",
      " 79  listed_count             40120 non-null  int64  \n",
      " 80  statuses_count           40120 non-null  int64  \n",
      " 81  favourites_count         40120 non-null  int64  \n",
      " 82  account_created_at       40120 non-null  int64  \n",
      " 83  verified                 40120 non-null  bool   \n",
      " 84  profile_url              14687 non-null  object \n",
      " 85  profile_expanded_url     14675 non-null  object \n",
      " 86  account_lang             0 non-null      float64\n",
      " 87  profile_banner_url       30927 non-null  object \n",
      " 88  profile_background_url   15602 non-null  object \n",
      " 89  profile_image_url        40120 non-null  object \n",
      "dtypes: bool(4), float64(29), int64(12), object(45)\n",
      "memory usage: 26.8+ MB\n"
     ]
    }
   ],
   "source": [
    "ori_data.info()"
   ]
  },
  {
   "cell_type": "markdown",
   "id": "da084878",
   "metadata": {},
   "source": [
    "# Data cleaning"
   ]
  },
  {
   "cell_type": "markdown",
   "id": "9c5d3839",
   "metadata": {},
   "source": [
    "## Drop useless columns"
   ]
  },
  {
   "cell_type": "code",
   "execution_count": 523,
   "id": "72393b2a",
   "metadata": {
    "scrolled": true
   },
   "outputs": [
    {
     "data": {
      "text/html": [
       "<div>\n",
       "<style scoped>\n",
       "    .dataframe tbody tr th:only-of-type {\n",
       "        vertical-align: middle;\n",
       "    }\n",
       "\n",
       "    .dataframe tbody tr th {\n",
       "        vertical-align: top;\n",
       "    }\n",
       "\n",
       "    .dataframe thead th {\n",
       "        text-align: right;\n",
       "    }\n",
       "</style>\n",
       "<table border=\"1\" class=\"dataframe\">\n",
       "  <thead>\n",
       "    <tr style=\"text-align: right;\">\n",
       "      <th></th>\n",
       "      <th>created_at</th>\n",
       "      <th>text</th>\n",
       "      <th>hashtags</th>\n",
       "      <th>lang</th>\n",
       "      <th>location</th>\n",
       "      <th>description</th>\n",
       "    </tr>\n",
       "  </thead>\n",
       "  <tbody>\n",
       "    <tr>\n",
       "      <th>0</th>\n",
       "      <td>1631318392</td>\n",
       "      <td>Bitcoin, Ethereum and Solana Prices Slip�&lt;U+00...</td>\n",
       "      <td>c(\"crypto\", \"cryptocurrency\", \"crypto\", \"altse...</td>\n",
       "      <td>en</td>\n",
       "      <td>United States</td>\n",
       "      <td>Crypto Research and investing news\\r\\n$ada, $b...</td>\n",
       "    </tr>\n",
       "    <tr>\n",
       "      <th>1</th>\n",
       "      <td>1631318092</td>\n",
       "      <td>C98/USD price expected to dip to $3.5 in the n...</td>\n",
       "      <td>c(\"crypto\", \"cryptocurrency\", \"crypto\", \"altse...</td>\n",
       "      <td>en</td>\n",
       "      <td>United States</td>\n",
       "      <td>Crypto Research and investing news\\r\\n$ada, $b...</td>\n",
       "    </tr>\n",
       "    <tr>\n",
       "      <th>2</th>\n",
       "      <td>1631315815</td>\n",
       "      <td>Aave founder sells �&lt;U+0080&gt;&lt;U+0098&gt;Yield�&lt;U+0...</td>\n",
       "      <td>c(\"crypto\", \"cryptocurrency\", \"crypto\", \"altse...</td>\n",
       "      <td>da</td>\n",
       "      <td>United States</td>\n",
       "      <td>Crypto Research and investing news\\r\\n$ada, $b...</td>\n",
       "    </tr>\n",
       "    <tr>\n",
       "      <th>3</th>\n",
       "      <td>1631315995</td>\n",
       "      <td>Is the Crypto Market Correction Good or Bad fo...</td>\n",
       "      <td>c(\"crypto\", \"cryptocurrency\", \"crypto\", \"altse...</td>\n",
       "      <td>en</td>\n",
       "      <td>United States</td>\n",
       "      <td>Crypto Research and investing news\\r\\n$ada, $b...</td>\n",
       "    </tr>\n",
       "    <tr>\n",
       "      <th>4</th>\n",
       "      <td>1631318070</td>\n",
       "      <td>Undaunted by Bitcoin �&lt;U+0080&gt;&lt;U+0098&gt;flash cr...</td>\n",
       "      <td>c(\"crypto\", \"cryptocurrency\", \"crypto\", \"altse...</td>\n",
       "      <td>en</td>\n",
       "      <td>United States</td>\n",
       "      <td>Crypto Research and investing news\\r\\n$ada, $b...</td>\n",
       "    </tr>\n",
       "  </tbody>\n",
       "</table>\n",
       "</div>"
      ],
      "text/plain": [
       "   created_at                                               text  \\\n",
       "0  1631318392  Bitcoin, Ethereum and Solana Prices Slip�<U+00...   \n",
       "1  1631318092  C98/USD price expected to dip to $3.5 in the n...   \n",
       "2  1631315815  Aave founder sells �<U+0080><U+0098>Yield�<U+0...   \n",
       "3  1631315995  Is the Crypto Market Correction Good or Bad fo...   \n",
       "4  1631318070  Undaunted by Bitcoin �<U+0080><U+0098>flash cr...   \n",
       "\n",
       "                                            hashtags lang       location  \\\n",
       "0  c(\"crypto\", \"cryptocurrency\", \"crypto\", \"altse...   en  United States   \n",
       "1  c(\"crypto\", \"cryptocurrency\", \"crypto\", \"altse...   en  United States   \n",
       "2  c(\"crypto\", \"cryptocurrency\", \"crypto\", \"altse...   da  United States   \n",
       "3  c(\"crypto\", \"cryptocurrency\", \"crypto\", \"altse...   en  United States   \n",
       "4  c(\"crypto\", \"cryptocurrency\", \"crypto\", \"altse...   en  United States   \n",
       "\n",
       "                                         description  \n",
       "0  Crypto Research and investing news\\r\\n$ada, $b...  \n",
       "1  Crypto Research and investing news\\r\\n$ada, $b...  \n",
       "2  Crypto Research and investing news\\r\\n$ada, $b...  \n",
       "3  Crypto Research and investing news\\r\\n$ada, $b...  \n",
       "4  Crypto Research and investing news\\r\\n$ada, $b...  "
      ]
     },
     "execution_count": 523,
     "metadata": {},
     "output_type": "execute_result"
    }
   ],
   "source": [
    "useful_cols = ['created_at','text','hashtags','lang','location','description']\n",
    "\n",
    "data = ori_data[useful_cols].copy()\n",
    "\n",
    "data.head()"
   ]
  },
  {
   "cell_type": "markdown",
   "id": "16ca6c5c",
   "metadata": {},
   "source": [
    "## Extract text data"
   ]
  },
  {
   "cell_type": "code",
   "execution_count": 524,
   "id": "3f7305a9",
   "metadata": {
    "scrolled": true
   },
   "outputs": [
    {
     "name": "stdout",
     "output_type": "stream",
     "text": [
      "<class 'pandas.core.frame.DataFrame'>\n",
      "Int64Index: 40120 entries, 0 to 40119\n",
      "Data columns (total 6 columns):\n",
      " #   Column       Non-Null Count  Dtype \n",
      "---  ------       --------------  ----- \n",
      " 0   created_at   40120 non-null  int64 \n",
      " 1   text         40120 non-null  object\n",
      " 2   hashtags     40120 non-null  object\n",
      " 3   lang         40120 non-null  object\n",
      " 4   location     19429 non-null  object\n",
      " 5   description  33578 non-null  object\n",
      "dtypes: int64(1), object(5)\n",
      "memory usage: 2.1+ MB\n"
     ]
    }
   ],
   "source": [
    "data.info()"
   ]
  },
  {
   "cell_type": "code",
   "execution_count": 525,
   "id": "0469cdc5",
   "metadata": {
    "scrolled": false
   },
   "outputs": [
    {
     "data": {
      "text/html": [
       "<div>\n",
       "<style scoped>\n",
       "    .dataframe tbody tr th:only-of-type {\n",
       "        vertical-align: middle;\n",
       "    }\n",
       "\n",
       "    .dataframe tbody tr th {\n",
       "        vertical-align: top;\n",
       "    }\n",
       "\n",
       "    .dataframe thead th {\n",
       "        text-align: right;\n",
       "    }\n",
       "</style>\n",
       "<table border=\"1\" class=\"dataframe\">\n",
       "  <thead>\n",
       "    <tr style=\"text-align: right;\">\n",
       "      <th></th>\n",
       "      <th>created_at</th>\n",
       "      <th>text</th>\n",
       "      <th>hashtags</th>\n",
       "      <th>lang</th>\n",
       "      <th>location</th>\n",
       "      <th>description</th>\n",
       "    </tr>\n",
       "  </thead>\n",
       "  <tbody>\n",
       "    <tr>\n",
       "      <th>0</th>\n",
       "      <td>2021-09-06 13:27:41</td>\n",
       "      <td>Nice! My #Trading Bot 2 just sold $FET/ $USDT ...</td>\n",
       "      <td>c(\"Trading\", \"binance\", \"ad\", \"ad\", \"FET\", \"Cr...</td>\n",
       "      <td>en</td>\n",
       "      <td>Sachsen</td>\n",
       "      <td>Real Live Trades</td>\n",
       "    </tr>\n",
       "    <tr>\n",
       "      <th>1</th>\n",
       "      <td>2021-09-06 13:27:44</td>\n",
       "      <td>@bailsbeezbail @florsbeny @SolarMoonToken @Sol...</td>\n",
       "      <td>c(\"cryptocurrency\", \"solarmoon\", \"greencrypto\")</td>\n",
       "      <td>en</td>\n",
       "      <td>NaN</td>\n",
       "      <td>SOLARMOON FOR LIFE</td>\n",
       "    </tr>\n",
       "    <tr>\n",
       "      <th>2</th>\n",
       "      <td>2021-09-06 13:27:49</td>\n",
       "      <td>@chainlink ( $LINK): How long will it take to ...</td>\n",
       "      <td>c(\"cryptocurrency\", \"CryptoNews\", \"cryptotradi...</td>\n",
       "      <td>en</td>\n",
       "      <td>NaN</td>\n",
       "      <td>CryptoNewsZ is a news publication media that p...</td>\n",
       "    </tr>\n",
       "    <tr>\n",
       "      <th>3</th>\n",
       "      <td>2021-09-06 13:27:49</td>\n",
       "      <td>@elonmusk You are right sir. Indeed, Time is t...</td>\n",
       "      <td>c(\"elonmusk\", \"cryptocurrency\", \"bsc\")</td>\n",
       "      <td>en</td>\n",
       "      <td>&lt;U+0001F4CD&gt;Republic of the Philippines</td>\n",
       "      <td>She/ Her � Filipina � Animal Lover � real acco...</td>\n",
       "    </tr>\n",
       "    <tr>\n",
       "      <th>4</th>\n",
       "      <td>2021-09-06 13:27:56</td>\n",
       "      <td>#IOTA #MIOTA #IOTAstrong #cryptonews #crypto #...</td>\n",
       "      <td>c(\"IOTA\", \"MIOTA\", \"IOTAstrong\", \"cryptonews\",...</td>\n",
       "      <td>und</td>\n",
       "      <td>Global</td>\n",
       "      <td>News about IOTA - The dlt that is being built ...</td>\n",
       "    </tr>\n",
       "  </tbody>\n",
       "</table>\n",
       "</div>"
      ],
      "text/plain": [
       "           created_at                                               text  \\\n",
       "0 2021-09-06 13:27:41  Nice! My #Trading Bot 2 just sold $FET/ $USDT ...   \n",
       "1 2021-09-06 13:27:44  @bailsbeezbail @florsbeny @SolarMoonToken @Sol...   \n",
       "2 2021-09-06 13:27:49  @chainlink ( $LINK): How long will it take to ...   \n",
       "3 2021-09-06 13:27:49  @elonmusk You are right sir. Indeed, Time is t...   \n",
       "4 2021-09-06 13:27:56  #IOTA #MIOTA #IOTAstrong #cryptonews #crypto #...   \n",
       "\n",
       "                                            hashtags lang  \\\n",
       "0  c(\"Trading\", \"binance\", \"ad\", \"ad\", \"FET\", \"Cr...   en   \n",
       "1    c(\"cryptocurrency\", \"solarmoon\", \"greencrypto\")   en   \n",
       "2  c(\"cryptocurrency\", \"CryptoNews\", \"cryptotradi...   en   \n",
       "3             c(\"elonmusk\", \"cryptocurrency\", \"bsc\")   en   \n",
       "4  c(\"IOTA\", \"MIOTA\", \"IOTAstrong\", \"cryptonews\",...  und   \n",
       "\n",
       "                                  location  \\\n",
       "0                                  Sachsen   \n",
       "1                                      NaN   \n",
       "2                                      NaN   \n",
       "3  <U+0001F4CD>Republic of the Philippines   \n",
       "4                                   Global   \n",
       "\n",
       "                                         description  \n",
       "0                                   Real Live Trades  \n",
       "1                                 SOLARMOON FOR LIFE  \n",
       "2  CryptoNewsZ is a news publication media that p...  \n",
       "3  She/ Her � Filipina � Animal Lover � real acco...  \n",
       "4  News about IOTA - The dlt that is being built ...  "
      ]
     },
     "execution_count": 525,
     "metadata": {},
     "output_type": "execute_result"
    }
   ],
   "source": [
    "data['created_at'] = pd.to_datetime(data['created_at'],unit='s')\n",
    "data = data.sort_values(by='created_at').reset_index(drop=True)\n",
    "data.head()"
   ]
  },
  {
   "cell_type": "markdown",
   "id": "a4f27fba",
   "metadata": {},
   "source": [
    "Train test split"
   ]
  },
  {
   "cell_type": "code",
   "execution_count": 526,
   "id": "6226d979",
   "metadata": {},
   "outputs": [],
   "source": [
    "from sklearn.model_selection import  train_test_split"
   ]
  },
  {
   "cell_type": "code",
   "execution_count": 527,
   "id": "871f0339",
   "metadata": {},
   "outputs": [],
   "source": [
    "TrainDF, TestDF = train_test_split(data,test_size = 0.3,random_state=2)"
   ]
  },
  {
   "cell_type": "code",
   "execution_count": 528,
   "id": "51437495",
   "metadata": {},
   "outputs": [],
   "source": [
    "TrainDF = TrainDF.reset_index(drop=True)\n",
    "TestDF = TestDF.reset_index(drop=True)"
   ]
  },
  {
   "cell_type": "markdown",
   "id": "eb2bdb07",
   "metadata": {},
   "source": [
    "## text pipline"
   ]
  },
  {
   "cell_type": "markdown",
   "id": "f394982d",
   "metadata": {},
   "source": [
    "Create a pipeline to help filter the trash words or useless words in the doc"
   ]
  },
  {
   "cell_type": "code",
   "execution_count": 555,
   "id": "d1a0d4e1",
   "metadata": {},
   "outputs": [],
   "source": [
    "import spacy\n",
    "\n",
    "pipeline = spacy.load('en_core_web_sm')\n",
    "\n",
    "import re\n",
    "from spacy.language import Language\n",
    "\n",
    "# http://emailregex.com/\n",
    "email_re = r\"\"\"(?:[a-z0-9!#$%&'*+/=?^_`{|}~-]+(?:\\.[a-z0-9!#$%&'*+/=?^_`{|}~-]+)*|\"(?:[\\x01-\\x08\\x0b\\x0c\\x0e-\\x1f\\x21\\x23-\\x5b\\x5d-\\x7f]|\\\\[\\x01-\\x09\\x0b\\x0c\\x0e-\\x7f])*\")@(?:(?:[a-z0-9](?:[a-z0-9-]*[a-z0-9])?\\.)+[a-z0-9](?:[a-z0-9-]*[a-z0-9])?|\\[(?:(?:25[0-5]|2[0-4][0-9]|[01]?[0-9][0-9]?)\\.){3}(?:25[0-5]|2[0-4][0-9]|[01]?[0-9][0-9]?|[a-z0-9-]*[a-z0-9]:(?:[\\x01-\\x08\\x0b\\x0c\\x0e-\\x1f\\x21-\\x5a\\x53-\\x7f]|\\\\[\\x01-\\x09\\x0b\\x0c\\x0e-\\x7f])+)\\])\"\"\"\n",
    "\n",
    "# replace = [ (pattern-to-replace, replacement),  ...]\n",
    "replace = [\n",
    "    (r\"<a[^>]*>(.*?)</a>\", r\"\\1\"),  # Matches most URLs\n",
    "    (email_re, \"email\"),            # Matches emails\n",
    "    (r\"(?<=\\d),(?=\\d)\", \"\"),        # Remove commas in numbers\n",
    "    (r\"\\d+\", \"numbr\"),              # Map digits to special token <numbr>\n",
    "\n",
    "    (r\"\\#[a-zA-Z]*\",\"\"), # Remove the hasg tag\n",
    "    (r\"\\@[a-zA-Z]*\",\"\"), # Remove the hasg tag\n",
    "    (r\"[\\t\\n\\r\\*\\.\\@\\,\\-\\/]\", \" \"),   # Punctuation and other junk\n",
    "\n",
    "    (r\"[a-zA-Z]*numbr[a-zA-Z]*\",\"\"),  # substitute the useless related words \"numbr\"\n",
    "    (r\"[a-zA-Z]*http[a-zA-Z]*\",\"\"),  # substitute the useless related words \"http\"\n",
    "    (r\"\\W\",\" \"),                      # Matches any character that is not a word character (alphanumeric & underscore)\n",
    "\n",
    "    (r\"\\b[\\w]\\b\", \"\"),              # matching single character\n",
    "    (r\"\\s+\", \" \")                   # Stips extra whitespace\n",
    "    \n",
    "]\n",
    "\n",
    "train_text = TrainDF['text']\n",
    "test_text = TestDF['text']\n",
    "\n",
    "for repl in replace:\n",
    "    train_text = [re.sub(repl[0], repl[1], text) for text in train_text]\n",
    "    test_text = [re.sub(repl[0], repl[1], text) for text in test_text]\n"
   ]
  },
  {
   "cell_type": "code",
   "execution_count": 558,
   "id": "07a301f8",
   "metadata": {},
   "outputs": [],
   "source": [
    "@Language.component(\"dbpedia_14\")\n",
    "def dbpedia_14_preprocess(doc):\n",
    "    tokens = [token for token in doc \n",
    "              if not any((token.is_stop, token.is_punct))]\n",
    "    tokens = [token.lemma_.lower().strip() for token in tokens]\n",
    "    tokens = [token for token in tokens if token]\n",
    "    return \" \".join(tokens)\n",
    "\n",
    "pipeline.add_pipe(\"dbpedia_14\");"
   ]
  },
  {
   "cell_type": "code",
   "execution_count": 559,
   "id": "e6ec5d4e",
   "metadata": {},
   "outputs": [],
   "source": [
    "train_text = [pipeline(doc) for doc in train_text]\n",
    "# test_text = [pipeline(doc) for doc in test_text]"
   ]
  },
  {
   "cell_type": "markdown",
   "id": "cbe33e42",
   "metadata": {},
   "source": [
    "## cleaned text sample"
   ]
  },
  {
   "cell_type": "code",
   "execution_count": 560,
   "id": "c50ac17c",
   "metadata": {},
   "outputs": [],
   "source": [
    "from sklearn.feature_extraction.text import CountVectorizer, TfidfVectorizer"
   ]
  },
  {
   "cell_type": "code",
   "execution_count": 561,
   "id": "c410aca7",
   "metadata": {},
   "outputs": [
    {
     "data": {
      "text/plain": [
       "18182"
      ]
     },
     "execution_count": 561,
     "metadata": {},
     "output_type": "execute_result"
    }
   ],
   "source": [
    "vocab_size = len(set(\" \".join(train_text).split(\" \")))\n",
    "vocab_size"
   ]
  },
  {
   "cell_type": "code",
   "execution_count": 562,
   "id": "e97c3dcf",
   "metadata": {},
   "outputs": [
    {
     "data": {
      "text/plain": [
       "(scipy.sparse.csr.csr_matrix, (28084, 238))"
      ]
     },
     "execution_count": 562,
     "metadata": {},
     "output_type": "execute_result"
    }
   ],
   "source": [
    "bow_featurizer = CountVectorizer(max_features=vocab_size, max_df=0.95, min_df=0.005, stop_words='english')\n",
    "tfidf_featurizer = TfidfVectorizer(max_features=vocab_size, max_df=0.95, stop_words='english')\n",
    "\n",
    "# train data\n",
    "X_bow = bow_featurizer.fit_transform(train_text)\n",
    "X_tfidf = tfidf_featurizer.fit_transform(train_text)\n",
    "\n",
    "type(X_bow), X_bow.shape"
   ]
  },
  {
   "cell_type": "code",
   "execution_count": 563,
   "id": "2360232f",
   "metadata": {},
   "outputs": [],
   "source": [
    "idx2word = {idx: word for word, idx in bow_featurizer.vocabulary_.items()}"
   ]
  },
  {
   "cell_type": "code",
   "execution_count": 564,
   "id": "07e8cf52",
   "metadata": {},
   "outputs": [],
   "source": [
    "# Configurable\n",
    "K = 10"
   ]
  },
  {
   "cell_type": "code",
   "execution_count": 565,
   "id": "548a4caf",
   "metadata": {},
   "outputs": [],
   "source": [
    "from time import time\n",
    "import matplotlib.pyplot as plt\n",
    "\n",
    "from sklearn.feature_extraction.text import TfidfVectorizer, CountVectorizer\n",
    "from sklearn.decomposition import NMF, LatentDirichletAllocation\n",
    "\n",
    "def plot_top_words(model, feature_names, n_top_words, title):\n",
    "    plt.clf()\n",
    "    cols = 5\n",
    "    rows = K // 5 + K % 5\n",
    "    fig, axes = plt.subplots(rows, cols, figsize=(5 * cols, 4 * rows), sharex=True)\n",
    "    axes = axes.flatten()\n",
    "    for topic_idx, topic in enumerate(model.components_):\n",
    "        top_features_ind = topic.argsort()[::-1][:n_top_words]\n",
    "        top_features = [feature_names[i] for i in top_features_ind]\n",
    "        weights = topic[top_features_ind]\n",
    "        ax = axes[topic_idx]\n",
    "        ax.barh(top_features, weights, height=0.7)\n",
    "        ax.set_title(f'Topic {topic_idx + 1}',\n",
    "                     fontdict={'fontsize': 30})\n",
    "        ax.invert_yaxis()\n",
    "        ax.tick_params(axis='both', which='major', labelsize=20)\n",
    "        for i in 'top right left'.split():\n",
    "            ax.spines[i].set_visible(False)\n",
    "        fig.suptitle(title, fontsize=40)\n",
    "    plt.subplots_adjust(top=0.90, bottom=0.05, wspace=0.90, hspace=0.3)\n",
    "    plt.show()"
   ]
  },
  {
   "cell_type": "markdown",
   "id": "16f87164",
   "metadata": {},
   "source": [
    "SVD"
   ]
  },
  {
   "cell_type": "code",
   "execution_count": 566,
   "id": "a637d95b",
   "metadata": {},
   "outputs": [],
   "source": [
    "from sklearn.decomposition import TruncatedSVD\n",
    "\n",
    "svd = TruncatedSVD(n_components=K, random_state=42)\n",
    "svd.fit(X_bow)\n",
    "\n",
    "top_10_words = pd.DataFrame() \n",
    "n_top_words = 10\n",
    "feature_names = idx2word\n",
    "word_weight = np.empty(shape=(0,n_top_words))\n",
    "\n",
    "for topic_idx, topic in enumerate(svd.components_):\n",
    "    top_features_ind = topic.argsort()[::-1][:n_top_words]\n",
    "    # record the weight of keywords for each topic\n",
    "    word_weight = np.append(word_weight, [topic[top_features_ind]],axis = 0)\n",
    "    top_features = [feature_names[i] for i in top_features_ind]\n",
    "    name = f\"topic {topic_idx}\"\n",
    "    top_10_words[name] = top_features"
   ]
  },
  {
   "cell_type": "code",
   "execution_count": 567,
   "id": "ad4a3b0c",
   "metadata": {},
   "outputs": [
    {
     "data": {
      "text/html": [
       "<div>\n",
       "<style scoped>\n",
       "    .dataframe tbody tr th:only-of-type {\n",
       "        vertical-align: middle;\n",
       "    }\n",
       "\n",
       "    .dataframe tbody tr th {\n",
       "        vertical-align: top;\n",
       "    }\n",
       "\n",
       "    .dataframe thead th {\n",
       "        text-align: right;\n",
       "    }\n",
       "</style>\n",
       "<table border=\"1\" class=\"dataframe\">\n",
       "  <thead>\n",
       "    <tr style=\"text-align: right;\">\n",
       "      <th></th>\n",
       "      <th>topic 0</th>\n",
       "      <th>topic 1</th>\n",
       "      <th>topic 2</th>\n",
       "      <th>topic 3</th>\n",
       "      <th>topic 4</th>\n",
       "      <th>topic 5</th>\n",
       "      <th>topic 6</th>\n",
       "      <th>topic 7</th>\n",
       "      <th>topic 8</th>\n",
       "      <th>topic 9</th>\n",
       "    </tr>\n",
       "  </thead>\n",
       "  <tbody>\n",
       "    <tr>\n",
       "      <th>0</th>\n",
       "      <td>market</td>\n",
       "      <td>project</td>\n",
       "      <td>exchange</td>\n",
       "      <td>usdt</td>\n",
       "      <td>join</td>\n",
       "      <td>gmt</td>\n",
       "      <td>buy</td>\n",
       "      <td>buy</td>\n",
       "      <td>crypto</td>\n",
       "      <td>good</td>\n",
       "    </tr>\n",
       "    <tr>\n",
       "      <th>1</th>\n",
       "      <td>crypto</td>\n",
       "      <td>good</td>\n",
       "      <td>nft</td>\n",
       "      <td>minute</td>\n",
       "      <td>awesome</td>\n",
       "      <td>spot</td>\n",
       "      <td>crypto</td>\n",
       "      <td>market</td>\n",
       "      <td>great</td>\n",
       "      <td>future</td>\n",
       "    </tr>\n",
       "    <tr>\n",
       "      <th>2</th>\n",
       "      <td>price</td>\n",
       "      <td>team</td>\n",
       "      <td>team</td>\n",
       "      <td>moon</td>\n",
       "      <td>play</td>\n",
       "      <td>hrs</td>\n",
       "      <td>bitcoin</td>\n",
       "      <td>rank</td>\n",
       "      <td>buy</td>\n",
       "      <td>hopefully</td>\n",
       "    </tr>\n",
       "    <tr>\n",
       "      <th>3</th>\n",
       "      <td>change</td>\n",
       "      <td>great</td>\n",
       "      <td>token</td>\n",
       "      <td>earth</td>\n",
       "      <td>vault</td>\n",
       "      <td>price</td>\n",
       "      <td>btc</td>\n",
       "      <td>days</td>\n",
       "      <td>post</td>\n",
       "      <td>luck</td>\n",
       "    </tr>\n",
       "    <tr>\n",
       "      <th>4</th>\n",
       "      <td>cap</td>\n",
       "      <td>future</td>\n",
       "      <td>come</td>\n",
       "      <td>high</td>\n",
       "      <td>location</td>\n",
       "      <td>trading</td>\n",
       "      <td>el</td>\n",
       "      <td>low</td>\n",
       "      <td>trading</td>\n",
       "      <td>bsc</td>\n",
       "    </tr>\n",
       "    <tr>\n",
       "      <th>5</th>\n",
       "      <td>volume</td>\n",
       "      <td>strong</td>\n",
       "      <td>canada</td>\n",
       "      <td>bot</td>\n",
       "      <td>user</td>\n",
       "      <td>change</td>\n",
       "      <td>salvador</td>\n",
       "      <td>trade</td>\n",
       "      <td>gmt</td>\n",
       "      <td>projector</td>\n",
       "    </tr>\n",
       "    <tr>\n",
       "      <th>6</th>\n",
       "      <td>usd</td>\n",
       "      <td>hope</td>\n",
       "      <td>launch</td>\n",
       "      <td>profit</td>\n",
       "      <td>green</td>\n",
       "      <td>total</td>\n",
       "      <td>post</td>\n",
       "      <td>trend</td>\n",
       "      <td>spot</td>\n",
       "      <td>attraction</td>\n",
       "    </tr>\n",
       "    <tr>\n",
       "      <th>7</th>\n",
       "      <td>day</td>\n",
       "      <td>join</td>\n",
       "      <td>fully</td>\n",
       "      <td>binance</td>\n",
       "      <td>crypto</td>\n",
       "      <td>flow</td>\n",
       "      <td>eth</td>\n",
       "      <td>cap</td>\n",
       "      <td>hrs</td>\n",
       "      <td>lot</td>\n",
       "    </tr>\n",
       "    <tr>\n",
       "      <th>8</th>\n",
       "      <td>high</td>\n",
       "      <td>bsc</td>\n",
       "      <td>centralized</td>\n",
       "      <td>sell</td>\n",
       "      <td>earn</td>\n",
       "      <td>net</td>\n",
       "      <td>sell</td>\n",
       "      <td>volume</td>\n",
       "      <td>total</td>\n",
       "      <td>coin</td>\n",
       "    </tr>\n",
       "    <tr>\n",
       "      <th>9</th>\n",
       "      <td>alert</td>\n",
       "      <td>success</td>\n",
       "      <td>compliant</td>\n",
       "      <td>free</td>\n",
       "      <td>coin</td>\n",
       "      <td>volume</td>\n",
       "      <td>new</td>\n",
       "      <td>high</td>\n",
       "      <td>team</td>\n",
       "      <td>hope</td>\n",
       "    </tr>\n",
       "  </tbody>\n",
       "</table>\n",
       "</div>"
      ],
      "text/plain": [
       "  topic 0  topic 1      topic 2  topic 3   topic 4  topic 5   topic 6 topic 7  \\\n",
       "0  market  project     exchange     usdt      join      gmt       buy     buy   \n",
       "1  crypto     good          nft   minute   awesome     spot    crypto  market   \n",
       "2   price     team         team     moon      play      hrs   bitcoin    rank   \n",
       "3  change    great        token    earth     vault    price       btc    days   \n",
       "4     cap   future         come     high  location  trading        el     low   \n",
       "5  volume   strong       canada      bot      user   change  salvador   trade   \n",
       "6     usd     hope       launch   profit     green    total      post   trend   \n",
       "7     day     join        fully  binance    crypto     flow       eth     cap   \n",
       "8    high      bsc  centralized     sell      earn      net      sell  volume   \n",
       "9   alert  success    compliant     free      coin   volume       new    high   \n",
       "\n",
       "   topic 8     topic 9  \n",
       "0   crypto        good  \n",
       "1    great      future  \n",
       "2      buy   hopefully  \n",
       "3     post        luck  \n",
       "4  trading         bsc  \n",
       "5      gmt   projector  \n",
       "6     spot  attraction  \n",
       "7      hrs         lot  \n",
       "8    total        coin  \n",
       "9     team        hope  "
      ]
     },
     "execution_count": 567,
     "metadata": {},
     "output_type": "execute_result"
    }
   ],
   "source": [
    "top_10_words"
   ]
  },
  {
   "cell_type": "code",
   "execution_count": 568,
   "id": "fdfa207a",
   "metadata": {},
   "outputs": [
    {
     "data": {
      "text/plain": [
       "<Figure size 432x288 with 0 Axes>"
      ]
     },
     "metadata": {},
     "output_type": "display_data"
    },
    {
     "data": {
      "image/png": "[encoded data removed]",
      "text/plain": [
       "<Figure size 1800x576 with 10 Axes>"
      ]
     },
     "metadata": {},
     "output_type": "display_data"
    }
   ],
   "source": [
    "plot_top_words(svd, idx2word, 10, 'top 10 words of Top ten topics')"
   ]
  },
  {
   "cell_type": "code",
   "execution_count": 586,
   "id": "1102c5b5",
   "metadata": {},
   "outputs": [
    {
     "data": {
      "text/html": [
       "<div>\n",
       "<style scoped>\n",
       "    .dataframe tbody tr th:only-of-type {\n",
       "        vertical-align: middle;\n",
       "    }\n",
       "\n",
       "    .dataframe tbody tr th {\n",
       "        vertical-align: top;\n",
       "    }\n",
       "\n",
       "    .dataframe thead th {\n",
       "        text-align: right;\n",
       "    }\n",
       "</style>\n",
       "<table border=\"1\" class=\"dataframe\">\n",
       "  <thead>\n",
       "    <tr style=\"text-align: right;\">\n",
       "      <th></th>\n",
       "      <th>topic 1</th>\n",
       "      <th>topic 2</th>\n",
       "      <th>topic 3</th>\n",
       "      <th>topic 6</th>\n",
       "      <th>topic 8</th>\n",
       "      <th>topic 9</th>\n",
       "    </tr>\n",
       "  </thead>\n",
       "  <tbody>\n",
       "    <tr>\n",
       "      <th>0</th>\n",
       "      <td>project</td>\n",
       "      <td>exchange</td>\n",
       "      <td>usdt</td>\n",
       "      <td>buy</td>\n",
       "      <td>crypto</td>\n",
       "      <td>good</td>\n",
       "    </tr>\n",
       "    <tr>\n",
       "      <th>1</th>\n",
       "      <td>good</td>\n",
       "      <td>nft</td>\n",
       "      <td>minute</td>\n",
       "      <td>crypto</td>\n",
       "      <td>great</td>\n",
       "      <td>future</td>\n",
       "    </tr>\n",
       "    <tr>\n",
       "      <th>2</th>\n",
       "      <td>team</td>\n",
       "      <td>team</td>\n",
       "      <td>moon</td>\n",
       "      <td>bitcoin</td>\n",
       "      <td>buy</td>\n",
       "      <td>hopefully</td>\n",
       "    </tr>\n",
       "    <tr>\n",
       "      <th>3</th>\n",
       "      <td>great</td>\n",
       "      <td>token</td>\n",
       "      <td>earth</td>\n",
       "      <td>btc</td>\n",
       "      <td>post</td>\n",
       "      <td>luck</td>\n",
       "    </tr>\n",
       "    <tr>\n",
       "      <th>4</th>\n",
       "      <td>future</td>\n",
       "      <td>come</td>\n",
       "      <td>high</td>\n",
       "      <td>el</td>\n",
       "      <td>trading</td>\n",
       "      <td>bsc</td>\n",
       "    </tr>\n",
       "    <tr>\n",
       "      <th>5</th>\n",
       "      <td>strong</td>\n",
       "      <td>canada</td>\n",
       "      <td>bot</td>\n",
       "      <td>salvador</td>\n",
       "      <td>gmt</td>\n",
       "      <td>projector</td>\n",
       "    </tr>\n",
       "    <tr>\n",
       "      <th>6</th>\n",
       "      <td>hope</td>\n",
       "      <td>launch</td>\n",
       "      <td>profit</td>\n",
       "      <td>post</td>\n",
       "      <td>spot</td>\n",
       "      <td>attraction</td>\n",
       "    </tr>\n",
       "    <tr>\n",
       "      <th>7</th>\n",
       "      <td>join</td>\n",
       "      <td>fully</td>\n",
       "      <td>binance</td>\n",
       "      <td>eth</td>\n",
       "      <td>hrs</td>\n",
       "      <td>lot</td>\n",
       "    </tr>\n",
       "    <tr>\n",
       "      <th>8</th>\n",
       "      <td>bsc</td>\n",
       "      <td>centralized</td>\n",
       "      <td>sell</td>\n",
       "      <td>sell</td>\n",
       "      <td>total</td>\n",
       "      <td>coin</td>\n",
       "    </tr>\n",
       "    <tr>\n",
       "      <th>9</th>\n",
       "      <td>success</td>\n",
       "      <td>compliant</td>\n",
       "      <td>free</td>\n",
       "      <td>new</td>\n",
       "      <td>team</td>\n",
       "      <td>hope</td>\n",
       "    </tr>\n",
       "  </tbody>\n",
       "</table>\n",
       "</div>"
      ],
      "text/plain": [
       "   topic 1      topic 2  topic 3   topic 6  topic 8     topic 9\n",
       "0  project     exchange     usdt       buy   crypto        good\n",
       "1     good          nft   minute    crypto    great      future\n",
       "2     team         team     moon   bitcoin      buy   hopefully\n",
       "3    great        token    earth       btc     post        luck\n",
       "4   future         come     high        el  trading         bsc\n",
       "5   strong       canada      bot  salvador      gmt   projector\n",
       "6     hope       launch   profit      post     spot  attraction\n",
       "7     join        fully  binance       eth      hrs         lot\n",
       "8      bsc  centralized     sell      sell    total        coin\n",
       "9  success    compliant     free       new     team        hope"
      ]
     },
     "execution_count": 586,
     "metadata": {},
     "output_type": "execute_result"
    }
   ],
   "source": [
    "# by setting the threshold as 0.5, we filtered out several topic\n",
    "selected_topics = top_10_words.iloc[:,(word_weight>0.5).sum(axis = 1)>=1]\n",
    "selected_topics"
   ]
  },
  {
   "cell_type": "markdown",
   "id": "32587153",
   "metadata": {},
   "source": [
    "# NMF"
   ]
  },
  {
   "cell_type": "code",
   "execution_count": 570,
   "id": "5760f698",
   "metadata": {},
   "outputs": [],
   "source": [
    "# from sklearn.decomposition import NMF\n",
    "\n",
    "# model_NMF = NMF(n_components=K, init='random', random_state=0)\n",
    "# model_NMF.fit(X_bow)\n",
    "\n",
    "# plot_top_words(model_NMF, idx2word, K, 'top 10 words of Top ten topics')\n"
   ]
  },
  {
   "cell_type": "markdown",
   "id": "c6dbfeb2",
   "metadata": {},
   "source": [
    "# LDA\n"
   ]
  },
  {
   "cell_type": "code",
   "execution_count": 571,
   "id": "907ae6bf",
   "metadata": {},
   "outputs": [],
   "source": [
    "# from sklearn.decomposition import LatentDirichletAllocation\n",
    "# LDA = LatentDirichletAllocation(n_components=K, random_state=0)\n",
    "# LDA.fit(X_bow)\n",
    "\n",
    "# plot_top_words(LDA, idx2word, K, 'top 10 words of Top ten topics')\n"
   ]
  },
  {
   "cell_type": "markdown",
   "id": "ad64ca1e",
   "metadata": {},
   "source": [
    "stage2"
   ]
  },
  {
   "cell_type": "markdown",
   "id": "e8d6353c",
   "metadata": {},
   "source": [
    "According to the above result, we choose the following keywords and topics\n",
    "\n",
    "Topic 1: project\n",
    "\n",
    "\n",
    "Topic 2: nft\n",
    "\n",
    "\n",
    "Topic 3: crypto\n",
    "\n",
    "\n",
    "Topic 4: usdt\n",
    "\n",
    "\n",
    "Topic 5: bitcoin"
   ]
  },
  {
   "cell_type": "code",
   "execution_count": 587,
   "id": "aabd406d",
   "metadata": {},
   "outputs": [],
   "source": [
    "# Change as needed\n",
    "K = 20\n",
    "word_frequency_threshold = 2\n",
    "epochs = 50\n",
    "lr = 0.01"
   ]
  },
  {
   "cell_type": "code",
   "execution_count": 588,
   "id": "5520deb6",
   "metadata": {},
   "outputs": [],
   "source": [
    "from gensim.models.doc2vec import Doc2Vec\n",
    "import gensim\n",
    "\n",
    "model = Doc2Vec(vector_size=K, min_count=word_frequency_threshold, epochs=epochs)"
   ]
  },
  {
   "cell_type": "code",
   "execution_count": 589,
   "id": "b5353eaa",
   "metadata": {},
   "outputs": [],
   "source": [
    "\n",
    "def corpus_transform(corpus,tokens_only=False):\n",
    "    for i,line in enumerate(corpus):\n",
    "        tokens = gensim.utils.simple_preprocess(line)\n",
    "        \n",
    "        if tokens_only:\n",
    "            yield tokens\n",
    "        else:\n",
    "            # For training data, add tags\n",
    "            yield gensim.models.doc2vec.TaggedDocument(tokens, [i])\n",
    "train_corpus =  list(corpus_transform(train_text))\n",
    "model.build_vocab(train_corpus)"
   ]
  },
  {
   "cell_type": "code",
   "execution_count": 590,
   "id": "7a9d8eff",
   "metadata": {},
   "outputs": [
    {
     "name": "stdout",
     "output_type": "stream",
     "text": [
      "CPU times: user 46.5 s, sys: 7.54 s, total: 54 s\n",
      "Wall time: 43.7 s\n"
     ]
    }
   ],
   "source": [
    "%%time\n",
    "model.train(train_corpus, total_examples=model.corpus_count, epochs=model.epochs)"
   ]
  },
  {
   "cell_type": "code",
   "execution_count": 591,
   "id": "27894371",
   "metadata": {},
   "outputs": [],
   "source": [
    "# Template function\n",
    "def calculate_similarity(selected_topics):\n",
    "    sim_mat = []\n",
    "    for i in range(selected_topics.shape[1]):\n",
    "        tpc = selected_topics.iloc[:,i].tolist()\n",
    "        doc_vector = model.infer_vector(tpc)\n",
    "        sim = model.dv.most_similar([doc_vector],topn = len(train_corpus))\n",
    "        # only select the similiarities\n",
    "        sim = [x[1] for x in sim]\n",
    "        sim_mat.append(sim)\n",
    "\n",
    "    return np.array(sim_mat).T"
   ]
  },
  {
   "cell_type": "code",
   "execution_count": 592,
   "id": "eff2a9b6",
   "metadata": {},
   "outputs": [],
   "source": [
    "sim_mat = calculate_similarity(selected_topics)"
   ]
  },
  {
   "cell_type": "code",
   "execution_count": 593,
   "id": "b887513b",
   "metadata": {},
   "outputs": [],
   "source": [
    "kmeans = KMeans(n_clusters=3, random_state=0).fit(sim_mat)"
   ]
  },
  {
   "cell_type": "code",
   "execution_count": 594,
   "id": "b9fb2335",
   "metadata": {},
   "outputs": [],
   "source": [
    "from sklearn.decomposition import PCA\n",
    "pca = PCA(n_components=2)"
   ]
  },
  {
   "cell_type": "code",
   "execution_count": 595,
   "id": "3e260b86",
   "metadata": {},
   "outputs": [
    {
     "data": {
      "text/plain": [
       "<AxesSubplot:>"
      ]
     },
     "execution_count": 595,
     "metadata": {},
     "output_type": "execute_result"
    },
    {
     "data": {
      "image/png": "[encoded data removed]",
      "text/plain": [
       "<Figure size 432x288 with 1 Axes>"
      ]
     },
     "metadata": {},
     "output_type": "display_data"
    }
   ],
   "source": [
    "sim_mat_pca = pca.fit_transform(sim_mat)\n",
    "sns.scatterplot(x = sim_mat_pca[:,0],y = sim_mat_pca[:,1],c = kmeans.labels_,alpha=0.2)"
   ]
  },
  {
   "cell_type": "code",
   "execution_count": 581,
   "id": "d905e41e",
   "metadata": {},
   "outputs": [],
   "source": [
    "from sklearn.manifold import TSNE"
   ]
  },
  {
   "cell_type": "code",
   "execution_count": 582,
   "id": "882df437",
   "metadata": {},
   "outputs": [],
   "source": [
    "sim_mat_tsne = TSNE(n_components=2, learning_rate='auto', init='random').fit_transform(sim_mat)"
   ]
  },
  {
   "cell_type": "code",
   "execution_count": 583,
   "id": "65f73eef",
   "metadata": {},
   "outputs": [
    {
     "data": {
      "text/plain": [
       "<AxesSubplot:>"
      ]
     },
     "execution_count": 583,
     "metadata": {},
     "output_type": "execute_result"
    },
    {
     "data": {
      "image/png": "[encoded data removed]",
      "text/plain": [
       "<Figure size 432x288 with 1 Axes>"
      ]
     },
     "metadata": {},
     "output_type": "display_data"
    }
   ],
   "source": [
    "sim_mat_pca = pca.fit_transform(sim_mat)\n",
    "sns.scatterplot(x = sim_mat_tsne[:,0],y = sim_mat_tsne[:,1],c = kmeans.labels_,alpha=0.2)"
   ]
  },
  {
   "cell_type": "code",
   "execution_count": 284,
   "id": "45f721b7",
   "metadata": {},
   "outputs": [
    {
     "data": {
      "text/plain": [
       "(28084,)"
      ]
     },
     "execution_count": 284,
     "metadata": {},
     "output_type": "execute_result"
    }
   ],
   "source": [
    "fig1 = plt.figure(figsize=(12, 12))\n",
    "ax1 = Axes3D(fig1, rect=[0, 0, .90, 1], elev=48, azim=134)\n",
    "\n",
    "ax1.scatter(sim_mat[:,0],sim_mat[:,1],sim_mat[:,2], cmap=\"RdYlGn\", edgecolor='k', s=200,c=kmeans.labels_)"
   ]
  },
  {
   "cell_type": "markdown",
   "id": "e0bb5ba9",
   "metadata": {},
   "source": [
    "## (10  pts) Task II: Evaluate your model by computing the most similar documents (tweets) to new (perhaps made up) tweets"
   ]
  },
  {
   "cell_type": "code",
   "execution_count": 48,
   "id": "61c09920",
   "metadata": {},
   "outputs": [],
   "source": [
    "# Template function\n",
    "def find_similar_tweets(tweet, top_n=10):\n",
    "    doc_vector = model.infer_vector(tweet)\n",
    "    sims = model.dv.most_similar([doc_vector], topn=top_n)\n",
    "    return sims"
   ]
  },
  {
   "cell_type": "code",
   "execution_count": 72,
   "id": "d82c7007",
   "metadata": {},
   "outputs": [
    {
     "name": "stdout",
     "output_type": "stream",
     "text": [
      "The most similiarity: 0.7959020137786865\n"
     ]
    },
    {
     "data": {
      "text/plain": [
       "'airdropstario good project hopefully future successful team cryptocurrency airdrop bsc bitcoin eth metaverseland mtland airdropstario'"
      ]
     },
     "execution_count": 72,
     "metadata": {},
     "output_type": "execute_result"
    }
   ],
   "source": [
    "# Your code goes here\n",
    "# tweet = ['Biden will win the selection']\n",
    "topic1 = [\"usdt gmt spot hrs cryptocapflow price trading change total volume\"]\n",
    "topic1 = [\"project\",\"airdrop\",'good',\"bsc\",\"bitcoin\",\"team\",'airdropstario','great','future','blockchain']\n",
    "sims_idx = find_similar_tweets(topic1,top_n=10)\n",
    "\n",
    "print('The most similiarity:',sims_idx[1][1])\n",
    "all_text[sims_idx[0][0]]"
   ]
  },
  {
   "cell_type": "code",
   "execution_count": 69,
   "id": "00906ba0",
   "metadata": {},
   "outputs": [
    {
     "data": {
      "text/plain": [
       "'@rocketdoge_info Good project, dedicated team\\r\\n\\r\\n@zomchim4 \\r\\n@JoelAmani12 \\r\\n@okejohnson8 \\r\\n@UmeghaluO \\r\\n\\r\\n#cryptocurrency #Bitcoin #Airdrop #BSC #ROCKETDODGE'"
      ]
     },
     "execution_count": 69,
     "metadata": {},
     "output_type": "execute_result"
    }
   ],
   "source": [
    "pd.concat([TrainDF,TestDF]).iloc[31299,]['text']"
   ]
  },
  {
   "cell_type": "markdown",
   "id": "bad2476e",
   "metadata": {},
   "source": [
    "## (10 pts extra credit) Task III: Produce a scatter plot of the compressed document embeddings (2D or 3D)\n",
    "\n",
    "*Useful resources*:\n",
    "\n",
    "* http://projector.tensorflow.org/"
   ]
  },
  {
   "cell_type": "code",
   "execution_count": 84,
   "id": "88775a50",
   "metadata": {},
   "outputs": [],
   "source": [
    "def save_matrix(matrix, fpath):\n",
    "    D1, D2 = matrix.shape\n",
    "    tsv = \"\"\n",
    "    for i in range(D1):\n",
    "        for j in range(D2):\n",
    "            tsv += str(matrix[i, j]) + '\\t'\n",
    "        tsv = tsv.strip('\\t') + '\\n'\n",
    "    tsv = tsv.strip('\\n')\n",
    "    with open(fpath, \"w\") as fd:\n",
    "        fd.write(tsv)\n",
    "        \n",
    "def save_vocab(vocab: dict, fpath):\n",
    "    tsv = \"\"\n",
    "    for word, idx in sorted(vocab.items(), key=lambda item: item[1]):\n",
    "        tsv += word + '\\n'\n",
    "    tsv = tsv.strip('\\n')\n",
    "    with open(fpath, \"w\") as fd:\n",
    "        fd.write(tsv)"
   ]
  },
  {
   "cell_type": "code",
   "execution_count": 85,
   "id": "99b963ca",
   "metadata": {},
   "outputs": [],
   "source": [
    "U = model.syn1neg\n",
    "save_matrix(U, \"580final_train_embeddings.tsv\")\n",
    "\n",
    "vocab = model.wv.key_to_index\n",
    "save_vocab(vocab, \"580final_train_vocab.tsv\")"
   ]
  },
  {
   "cell_type": "code",
   "execution_count": 86,
   "id": "74fa740a",
   "metadata": {},
   "outputs": [
    {
     "data": {
      "text/plain": [
       "(11603, 20)"
      ]
     },
     "execution_count": 86,
     "metadata": {},
     "output_type": "execute_result"
    }
   ],
   "source": [
    "U.shape"
   ]
  },
  {
   "cell_type": "code",
   "execution_count": 95,
   "id": "3012a9db",
   "metadata": {},
   "outputs": [
    {
     "data": {
      "text/plain": [
       "(11603, 20)"
      ]
     },
     "execution_count": 95,
     "metadata": {},
     "output_type": "execute_result"
    }
   ],
   "source": [
    "model.syn1neg.shape"
   ]
  },
  {
   "cell_type": "code",
   "execution_count": 93,
   "id": "e733ca36",
   "metadata": {},
   "outputs": [
    {
     "data": {
      "text/plain": [
       "TaggedDocument(words=['trend', 'crypto', 'alert', 'algorand', 'algo', 'trade', 'usd', 'price', 'change', 'day', 'high', 'day', 'low', 'volume', 'market', 'cap', 'market', 'rank', 'cryptocurrency', 'crypto'], tags=[1])"
      ]
     },
     "execution_count": 93,
     "metadata": {},
     "output_type": "execute_result"
    }
   ],
   "source": [
    "train_corpus[1]"
   ]
  },
  {
   "cell_type": "code",
   "execution_count": 89,
   "id": "c121e0cd",
   "metadata": {},
   "outputs": [
    {
     "data": {
      "text/plain": [
       "11603"
      ]
     },
     "execution_count": 89,
     "metadata": {},
     "output_type": "execute_result"
    }
   ],
   "source": [
    "len(vocab)"
   ]
  }
 ],
 "metadata": {
  "kernelspec": {
   "display_name": "Python 3",
   "language": "python",
   "name": "python3"
  },
  "language_info": {
   "codemirror_mode": {
    "name": "ipython",
    "version": 3
   },
   "file_extension": ".py",
   "mimetype": "text/x-python",
   "name": "python",
   "nbconvert_exporter": "python",
   "pygments_lexer": "ipython3",
   "version": "3.9.7"
  },
  "toc": {
   "base_numbering": 1,
   "nav_menu": {},
   "number_sections": true,
   "sideBar": true,
   "skip_h1_title": false,
   "title_cell": "Table of Contents",
   "title_sidebar": "Contents",
   "toc_cell": true,
   "toc_position": {},
   "toc_section_display": true,
   "toc_window_display": true
  }
 },
 "nbformat": 4,
 "nbformat_minor": 5
}
